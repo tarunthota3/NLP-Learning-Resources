{
 "cells": [
  {
   "cell_type": "markdown",
   "metadata": {},
   "source": [
    "Question 1: Load the course data files (both English and Italian) into dataframes. Each data file should be in a separate dataframe. "
   ]
  },
  {
   "cell_type": "markdown",
   "metadata": {},
   "source": [
    "Load the course data files (both English and Italian) into dataframes "
   ]
  },
  {
   "cell_type": "code",
   "execution_count": 220,
   "metadata": {},
   "outputs": [],
   "source": [
    "import pandas as pd\n",
    "english = pd.read_csv(\"CONcreTEXT_trial_EN.tsv\", sep='\\t')\n",
    "italian = pd.read_csv(\"CONcreTEXT_trial_IT.tsv\", sep='\\t')"
   ]
  },
  {
   "cell_type": "markdown",
   "metadata": {},
   "source": [
    "Printing English and Italian Data Frames"
   ]
  },
  {
   "cell_type": "code",
   "execution_count": 221,
   "metadata": {
    "scrolled": false
   },
   "outputs": [
    {
     "name": "stdout",
     "output_type": "stream",
     "text": [
      "         TARGET POS  INDEX                                               TEXT  \\\n",
      "0   achievement   N      3  Bring up academic achievements , awards , and ...   \n",
      "1   achievement   N      9  Please list people you have helped , your pers...   \n",
      "2      activate   V      1     Add activated carbon straight to your vodka .    \n",
      "3      activate   V     15  Place sensors around your garden , and when a ...   \n",
      "4     adventure   N      9  Look for a partner that shares your level of a...   \n",
      "..          ...  ..    ...                                                ...   \n",
      "95        water   N      5  Rinse your face with warm water and pat it dry .    \n",
      "96          win   V      4  Staying mentally strong means winning half the...   \n",
      "97          win   V      7  The person who has the highest score wins the ...   \n",
      "98        woman   N      7  For the most part , men and women wear the sam...   \n",
      "99        woman   N      3  Look at the woman whom you are listening to fo...   \n",
      "\n",
      "    MEAN  \n",
      "0   3.06  \n",
      "1   3.03  \n",
      "2   3.83  \n",
      "3   5.51  \n",
      "4   2.03  \n",
      "..   ...  \n",
      "95  6.91  \n",
      "96  2.34  \n",
      "97  4.60  \n",
      "98  6.29  \n",
      "99  6.57  \n",
      "\n",
      "[100 rows x 5 columns]\n",
      "         TARGET POS  INDEX                                               TEXT  \\\n",
      "0   affascinare   V      8  Guardati i piedi o fai finta di essere affasci...   \n",
      "1   affascinare   V      1  Sei affascinato dal funzionamento della mente ...   \n",
      "2         amore   N      5  Pensa ai tuoi sentimenti di amore , passione e...   \n",
      "3         amore   N      7  Quasi tutti sono in grado di ricevere amore e ...   \n",
      "4          aria   N      4  Accendi il condizionatore sull’ aria fredda ma...   \n",
      "..          ...  ..    ...                                                ...   \n",
      "95       verità   N      8  In un modo o nell' altro , la verità viene sem...   \n",
      "96      viaggio   N      2  Organizza dei viaggi nel fine settimana quando...   \n",
      "97      viaggio   N      6  Pesa le tue valigie prima del viaggio per evit...   \n",
      "98        vista   N      6  è molto importante non perdere di vista la pro...   \n",
      "99        vista   N      9  i conigli hanno un ottimo udito e un' ottima v...   \n",
      "\n",
      "    MEAN  \n",
      "0   2.39  \n",
      "1   2.03  \n",
      "2   2.71  \n",
      "3   2.16  \n",
      "4   5.68  \n",
      "..   ...  \n",
      "95  2.53  \n",
      "96  5.03  \n",
      "97  4.84  \n",
      "98  2.22  \n",
      "99  5.13  \n",
      "\n",
      "[100 rows x 5 columns]\n"
     ]
    }
   ],
   "source": [
    "print(english)\n",
    "print(italian)"
   ]
  },
  {
   "cell_type": "markdown",
   "metadata": {},
   "source": [
    "-------"
   ]
  },
  {
   "cell_type": "markdown",
   "metadata": {},
   "source": [
    "Question 2: Using NLTK libraries, strip the text in the TEXT column of punctuation and lowercase the words, and obtain from the original text a list of words (for both English and Italian)."
   ]
  },
  {
   "cell_type": "markdown",
   "metadata": {},
   "source": [
    " Stripping the text in the TEXT column of punctuation and lowercase the words for English Data Frame"
   ]
  },
  {
   "cell_type": "code",
   "execution_count": 222,
   "metadata": {},
   "outputs": [
    {
     "name": "stdout",
     "output_type": "stream",
     "text": [
      "['bring', 'up', 'academic', 'achievements', 'awards', 'and', 'other', 'milestones', 'in', 'your', 'life', 'please', 'list', 'people', 'you', 'have', 'helped', 'your', 'personal', 'achievements', 'or', 'troublesome', 'times', 'you', 'have', 'overcome', 'add', 'activated', 'carbon', 'straight', 'to', 'your', 'vodka', 'place', 'sensors', 'around', 'your', 'garden', 'and', 'when', 'a', 'cat', 'comes', 'in', 'the', 'motion', 'activates', 'a', 'sensor', 'look', 'for', 'a', 'partner', 'that', 'shares', 'your', 'level', 'of', 'adventure', 'in', 'pursuing', 'new', 'types', 'of', 'experiences', 'most', 'animated', 'action', 'adventure', 'thriller', 'or', 'mystery', 'films', 'and', 'books', 'could', 'work', 'here', 'if', 'people', 'think', 'you', 're', 'phony', 'or', 'putting', 'on', 'airs', 'they', 'll', 'tell', 'from', 'a', 'mile', 'away', 'place', 'your', 'tongue', 'behind', 'the', 'hole', 'in', 'your', 'lips', 'and', 'flick', 'out', 'bits', 'of', 'airs', 'bake', 'the', 'fries', 'until', 'they', 'are', 'crispy', 'and', 'golden', 'brown', 'pour', 'into', 'a', 'soufflé', 'dish', 'and', 'bake', 'until', 'the', 'top', 'browns', 'and', 'puffs', 'meditation', 'can', 'help', 'your', 'mind', 'and', 'body', 'relax', 'and', 'can', 'help', 'you', 'feel', 'happier', 'they', 'are', 'easier', 'for', 'the', 'human', 'body', 'to', 'digest', 'making', 'your', 'overall', 'experience', 'more', 'pleasant', 'for', 'example', 'you', 'could', 'join', 'a', 'book', 'club', 'or', 'take', 'an', 'art', 'class', 'if', 'you', 'publish', 'a', 'book', 'of', 'poetry', 'or', 'a', 'novel', 'you', 'should', 'give', 'any', 'other', 'publications', 'credit', 'expenses', 'include', 'rent', 'monthly', 'loans', 'car', 'insurance', 'and', 'car', 'loans', 'health', 'insurance', 'and', 'more', 'when', 'you', 'leave', 'the', 'seat', 'of', 'your', 'car', 'you', 'take', 'some', 'of', 'this', 'charge', 'with', 'you', 'painkillers', 'can', 'help', 'both', 'children', 'and', 'adults', 'feel', 'more', 'comfortable', 'as', 'their', 'bodies', 'heal', 'talk', 'to', 'your', 'spouse', 'about', 'child', 'custody', 'and', 'child', 'support', 'al', 'dente', 'pasta', 'is', 'cooked', 'but', 'still', 'firm', 'pasta', 'cooks', 'more', 'quickly', 'and', 'becomes', 'mushy', 'if', 'left', 'in', 'the', 'slow', 'cooker', 'too', 'long', 'contact', 'an', 'emergency', 'response', 'team', 'immediately', 'in', 'the', 'event', 'of', 'a', 'severe', 'trauma', 'or', 'medical', 'crisis', 'decide', 'if', 'you', 'are', 'having', 'an', 'existential', 'crisis', 'regarding', 'love', 'cuddling', 'with', 'pets', 'can', 'make', 'people', 'feel', 'better', 'physical', 'interaction', 'like', 'hand', 'holding', 'or', 'cuddling', 'before', 'you', 'kiss', 'can', 'work', 'as', 'ice', 'breakers', 'complete', 'your', 'grocery', 'shopping', 'decorate', 'the', 'house', 'to', 'ensure', 'you', 've', 'got', 'everything', 'you', 'need', 'cut', 'out', 'the', 'cookies', 'decorate', 'them', 'and', 'continue', 'baking', 'them', 'until', 'you', 'are', 'finished', 'enemies', 'will', 'provoke', 'your', 'anger', 'and', 'destroy', 'your', 'happiness', 'shaded', 'areas', 'tend', 'to', 'be', 'soggier', 'and', 'soggy', 'soil', 'can', 'invite', 'fungi', 'that', 'will', 'destroy', 'the', 'plant', 'a', 'cat', 'or', 'a', 'dog', 'could', 'easily', 'disturb', 'and', 'destroy', 'a', 'nest', 'sleep', 'is', 'often', 'disturbed', 'by', 'depression', 'consider', 'opening', 'the', 'oven', 'door', 'slightly', 'and', 'allowing', 'the', 'pan', 'to', 'cool', 'for', 'a', 'few', 'minutes', 'your', 'thoughts', 'can', 'open', 'up', 'many', 'doors', 'that', 'can', 'lead', 'to', 'friendship', 'trail', 'running', 'combines', 'hills', 'for', 'better', 'cardio', 'training', 'and', 'soft', 'earth', 'for', 'better', 'balance', 'your', 'carbon', 'footprint', 'is', 'your', 'impact', 'on', 'the', 'earth', 's', 'atmosphere', 'eat', 'snacks', 'whenever', 'you', 're', 'hungry', 'and', 'do', 'n', 't', 'skip', 'meals', 'weevils', 'can', 'eat', 'through', 'paper', 'and', 'thin', 'plastic', 'vary', 'the', 'colors', 'if', 'you', 'have', 'a', 'good', 'eye', 'for', 'matching', 'designs', 'you', 'll', 'need', 'felt', 'embroidery', 'thread', 'a', 'needle', 'with', 'a', 'large', 'eye', 'or', 'a', 'sewing', 'machine', 'as', 'your', 'nerves', 'become', 'increasingly', 'more', 'damaged', 'blind', 'spots', 'will', 'develop', 'in', 'your', 'field', 'of', 'vision', 'there', 'are', '30', 'players', 'on', 'the', 'field', 'at', 'any', 'time', 'in', 'a', 'game', 'of', 'rugby', 'do', 'n', 't', 'just', 'flirt', 'over', 'text', 'or', 'send', 'her', 'facebook', 'messages', 'if', 'you', 'actually', 'want', 'to', 'get', 'somewhere', 'try', 'doing', 'something', 'to', 'break', 'the', 'touch', 'jitters', 'away', 'by', 'flirting', 'physically', 'expand', 'your', 'repertoire', 'of', 'brain', 'games', 'if', 'you', 're', 'playing', 'games', 'on', 'a', 'computer', 'with', 'the', 'mouse', 'invest', 'in', 'a', 'wrist', 'cushion', 'there', 'are', 'some', 'clocks', 'that', 'can', 'safely', 'have', 'their', 'minute', 'hand', 'turned', 'counterclockwise', 'upon', 'grabbing', 'the', 'deck', 'turn', 'your', 'entire', 'hand', 'over', 'causing', 'the', 'cards', 'to', 'be', 'face', 'down', 'take', 'your', 'safety', 'pins', 'and', 'attach', 'one', 'card', 'to', 'the', 'head', 'of', 'your', 'bed', 'the', 'pope', 'is', 'also', 'head', 'of', 'the', 'world', 's', 'smallest', 'sovereign', 'state', 'the', 'vatican', 'it', 's', 'no', 'good', 'trying', 'to', 'chase', 'a', 'lizard', 'away', 'when', 'he', 'still', 'has', 'dozens', 'of', 'places', 'to', 'hide', 'many', 'parents', 'try', 'to', 'hide', 'their', 'own', 'negative', 'emotions', 'to', 'protect', 'their', 'children', 'read', 'the', 'company', 's', 'mission', 'statement', 'history', 'and', 'any', 'other', 'information', 'you', 'can', 'find', 'about', 'them', 'when', 'you', 'finished', 'delete', 'the', 'history', 'on', 'your', 'computer', 'that', 'leads', 'to', 'any', 'websites', 'your', 'parents', 'do', 'n', 't', 'want', 'you', 'on', 'invite', 'friends', 'and', 'loved', 'ones', 'to', 'a', 'party', 'or', 'dinner', 'in', 'honor', 'of', 'your', 'child', 'the', 'game', 'of', 'golf', 'is', 'about', 'honesty', 'honor', 'and', 'respect', 'not', 'just', 'hitting', 'a', 'ball', 'around', 'a', 'grassy', 'park', 'hearing', 'a', 'variety', 'of', 'perspectives', 'will', 'help', 'you', 'imagine', 'possibilities', 'so', 'you', 'can', 'make', 'the', 'best', 'decision', 'recall', 'the', 'future', 'you', 've', 'imagined', 'any', 'time', 'you', 'feel', 'stuck', 'or', 'otherwise', 'lost', 'in', 'life', 'find', 'a', 'charity', 'whose', 'work', 'truly', 'inspires', 'you', 'and', 'that', 'you', 'connect', 'with', 'the', 'fertilizer', 'will', 'inspire', 'leafy', 'growth', 'rather', 'than', 'flower', 'growth', 'a', 'loan', 'with', 'annual', 'interest', 'adds', 'the', 'interest', 'rate', 'ten', 'times', 'in', 'ten', 'years', 'if', 'you', 'are', 'a', 'professional', 'maintain', 'active', 'involvement', 'in', 'your', 'field', 'of', 'research', 'interest', 'limit', 'foods', 'and', 'drinks', 'that', 'irritate', 'the', 'bladder', 'sugary', 'foods', 'can', 'irritate', 'the', 'throat', 'before', 'settlement', 'negotiations', 'you', 'should', 'talk', 'with', 'your', 'attorney', 'about', 'how', 'much', 'your', 'lawsuit', 'is', 'worth', 'if', 'you', 'do', 'not', 'have', 'a', 'valid', 'legal', 'claim', 'any', 'lawsuit', 'you', 'bring', 'will', 'be', 'dismissed', 'by', 'the', 'court', 'it', 's', 'important', 'that', 'you', 'learn', 'to', 'trust', 'yourself', 'you', 'll', 'learn', 'how', 'to', 'play', 'by', 'interacting', 'with', 'those', 'more', 'talented', 'than', 'you', 'dress', 'in', 'a', 'professional', 'manner', 'for', 'your', 'interview', 'the', 'manner', 'in', 'which', 'the', 'photo', 'collage', 'will', 'be', 'displayed', 'should', 'be', 'considered', 'when', 'deciding', 'on', 'its', 'size', 'and', 'shape', 'simply', 'watching', 'a', 'movie', 'or', 'listening', 'to', 'music', 'together', 'are', 'relaxing', 'ways', 'to', 'enjoy', 'each', 'others', 'company', 'watch', 'a', 'funny', 'movie', 'or', 'television', 'show', 'do', 'not', 'insult', 'or', 'offend', 'anyone', 'nobody', 'wants', 'to', 'hang', 'out', 'with', 'someone', 'who', 'is', 'so', 'serious', 'that', 'they', 'are', 'constantly', 'afraid', 'of', 'offending', 'them', 'each', 'state', 'has', 'an', 'office', 'of', 'voter', 'affairs', 'when', 'in', 'doubt', 'call', 'doctor', 's', 'office', 'or', 'home', 'health', 'nurse', 'for', 'help', 'many', 'people', 'see', 'their', 'hair', 'as', 'an', 'integral', 'part', 'of', 'their', 'identity', 'mistakes', 'are', 'a', 'part', 'of', 'life', 'if', 'you', 'are', 'making', 'two', 'smaller', 'pizzas', 'cut', 'the', 'dough', 'ball', 'in', 'half', 'if', 'you', 'want', 'to', 'cook', 'large', 'pizzas', 'the', 'floor', 'of', 'the', 'oven', 'must', 'be', 'large', 'as', 'well', 'cars', 'play', 'a', 'big', 'part', 'in', 'polluting', 'the', 'air', 'producing', 'too', 'much', 'trash', 'pollutes', 'the', 'environment', 'focus', 'on', 'quality', 'not', 'quantity', 'when', 'helping', 'others', 'the', 'file', 'type', 'you', 'pick', 'will', 'affect', 'the', 'quality', 'of', 'the', 'image', 'after', 'it', 'is', 'saved', 'use', 'bobby', 'pins', 'to', 'secure', 'the', 'base', 'of', 'the', 'bun', 'to', 'the', 'head', 'you', 'might', 'need', 'to', 'secure', 'a', 'small', 'loan', 'or', 'have', 'savings', 'to', 'start', 'your', 'business', 'oatmeal', 'cleanses', 'moisturizes', 'soothes', 'irritation', 'and', 'relieves', 'itchiness', 'take', 'a', 'few', 'slow', 'deep', 'breaths', 'to', 'help', 'soothe', 'your', 'nerves', 'every', 'relationship', 'can', 'benefit', 'from', 'space', 'and', 'time', 'to', 'miss', 'each', 'other', 'ideally', 'this', 'drive', 'should', 'have', 'enough', 'space', 'to', 'fit', 'all', 'of', 'the', 'data', 'hold', 'the', 'person', 's', 'hand', 'when', 'you', 'cross', 'the', 'street', 'leave', 'the', 'office', 'to', 'walk', 'across', 'the', 'street', 'to', 'get', 'coffee', 'part', 'of', 'loving', 'life', 'is', 'to', 'not', 'be', 'ruled', 'by', 'fear', 'which', 'will', 'suffocate', 'you', 'in', 'unhappiness', 'there', 'is', 'also', 'a', 'potential', 'to', 'suffocate', 'from', 'too', 'much', 'carbon', 'monoxide', 'talk', 'about', 'the', 'places', 'you', 've', 'traveled', 'the', 'customs', 'back', 'home', 'or', 'just', 'stories', 'from', 'your', 'life', 'your', 'voice', 'like', 'any', 'sound', 'travels', 'through', 'various', 'mediums', 'in', 'the', 'form', 'of', 'sound', 'waves', 'if', 'the', 'roses', 'are', 'out', 'of', 'water', 'even', 'for', 'a', 'few', 'minutes', 'they', 'll', 'suffer', 'for', 'it', 'rinse', 'your', 'face', 'with', 'warm', 'water', 'and', 'pat', 'it', 'dry', 'staying', 'mentally', 'strong', 'means', 'winning', 'half', 'the', 'battle', 'to', 'becoming', 'a', 'better', 'person', 'the', 'person', 'who', 'has', 'the', 'highest', 'score', 'wins', 'the', 'game', 'for', 'the', 'most', 'part', 'men', 'and', 'women', 'wear', 'the', 'same', 'types', 'of', 'shoes', 'look', 'at', 'the', 'woman', 'whom', 'you', 'are', 'listening', 'to', 'for', 'as', 'long', 'as', 'you', 'or', 'she', 'is', 'speaking']\n"
     ]
    }
   ],
   "source": [
    "from nltk.tokenize import RegexpTokenizer\n",
    "tokenizer = RegexpTokenizer(r'\\w+')\n",
    "englishText = []\n",
    "for i in english[\"TEXT\"]:\n",
    "    englishText += [j.lower() for j in tokenizer.tokenize(i)]\n",
    "print(englishText)"
   ]
  },
  {
   "cell_type": "markdown",
   "metadata": {},
   "source": [
    " Stripping the text in the TEXT column of punctuation and lowercase the words for English Data Frame"
   ]
  },
  {
   "cell_type": "code",
   "execution_count": 223,
   "metadata": {},
   "outputs": [
    {
     "name": "stdout",
     "output_type": "stream",
     "text": [
      "['guardati', 'i', 'piedi', 'o', 'fai', 'finta', 'di', 'essere', 'affascinata', 'dalla', 'copertina', 'del', 'tuo', 'libro', 'sei', 'affascinato', 'dal', 'funzionamento', 'della', 'mente', 'umana', 'pensa', 'ai', 'tuoi', 'sentimenti', 'di', 'amore', 'passione', 'e', 'la', 'sessualità', 'quasi', 'tutti', 'sono', 'in', 'grado', 'di', 'ricevere', 'amore', 'e', 'gentilezza', 'accendi', 'il', 'condizionatore', 'sull', 'aria', 'fredda', 'ma', 'non', 'attivare', 'la', 'funzione', 'di', 'ricircolo', 'chi', 'vuole', 'darsi', 'delle', 'arie', 'di', 'superiorità', 'usa', 'tono', 'accondiscendente', 'e', 'battute', 'dello', 'stesso', 'tipo', 'osserva', 'come', 'lo', 'zentangle', 'si', 'differenzia', 'dalle', 'altre', 'forme', 'd', 'arte', 'visiva', 'tirare', 'su', 'il', 'prezzo', 'è', 'una', 'vera', 'arte', 'dunque', 'inizia', 'a', 'coltivarla', 'sin', 'da', 'ora', 'attualmente', 'la', 'forma', 'più', 'comune', 'di', 'inquinamento', 'acustico', 'deriva', 'dai', 'trasporti', 'soprattutto', 'automobili', 'motociclette', 'e', 'aeroplano', 'guidare', 'un', 'automobile', 'è', 'una', 'delle', 'cose', 'potenzialmente', 'più', 'pericolose', 'che', 'si', 'possa', 'fare', 'adulti', 'e', 'bambini', 'devono', 'avere', 'il', 'passaporto', 'per', 'espatriare', 'anche', 'via', 'mare', 'o', 'terra', 'prima', 'della', 'data', 'prevista', 'della', 'nascita', 'del', 'bambino', 'devi', 'stabilire', 'chi', 'sarà', 'presente', 'per', 'aiutarti', 'generalmente', 'un', 'campione', 'di', 'sangue', 'verrà', 'sottoposto', 'a', 'diversi', 'esami', 'differenti', 'oltre', 'a', 'quello', 'per', 'il', 'colesterolo', 'osservare', 'un', 'campione', 'al', 'microscopio', 'permette', 'di', 'focalizzarlo', 'meglio', 'e', 'di', 'analizzarlo', 'in', 'modo', 'più', 'particolareggiato', 'prepara', 'una', 'cenetta', 'romantica', 'oppure', 'prendi', 'delle', 'pietanze', 'da', 'asporto', 'tornando', 'a', 'casa', 'tenere', 'una', 'volpe', 'in', 'casa', 'è', 'illegale', 'in', 'molti', 'paesi', 'aggiungi', 'i', 'dati', 'su', 'lavoro', 'istruzione', 'città', 'in', 'cui', 'vivi', 'etc', 'nella', 'maggior', 'parte', 'delle', 'città', 'troverai', 'piste', 'ciclabili', 'non', 'sentirti', 'in', 'colpa', 'per', 'il', 'fatto', 'di', 'goderti', 'la', 'vita', 'preparati', 'a', 'prenderti', 'tutta', 'la', 'colpa', 'e', 'nessun', 'merito', 'inizia', 'con', 'dei', 'massaggi', 'di', '30', 'minuti', 'alla', 'gamba', 'concentrandoti', 'sui', 'muscoli', 'anteriori', 'e', 'posteriori', 'della', 'coscia', 'invece', 'di', 'cercare', 'di', 'sviluppare', 'decine', 'di', 'poteri', 'psichici', 'simultaneamente', 'concentrati', 'su', 'una', 'abilità', 'alla', 'volta', 'il', 'corpo', 'umano', 'è', 'abitudinario', 'e', 'rispetta', 'dei', 'ritmi', 'biologici', 'ben', 'precisi', 'quando', 'ci', 'prendiamo', 'cura', 'del', 'nostro', 'corpo', 'miglioriamo', 'il', 'nostro', 'stato', 'emotivo', 'e', 'psicologico', 'cucinare', 'è', 'qualcosa', 'che', 'può', 'fare', 'praticamente', 'chiunque', 'se', 'la', 'ricetta', 'ti', 'indica', 'di', 'cucinare', 'il', 'pollo', 'non', 'spellato', 'è', 'quello', 'che', 'devi', 'fare', 'dovrai', 'sbarazzarti', 'di', 'alcuni', 'pensieri', 'che', 'danneggiano', 'la', 'tua', 'autostima', 'un', 'eccessivo', 'consumo', 'di', 'alcool', 'può', 'danneggiare', 'i', 'vasi', 'sanguigni', 'della', 'pelle', 'generalmente', 'i', 'dipendenti', 'detestano', 'i', 'meeting', 'eccessivamente', 'lunghi', 'e', 'a', 'ragione', 'se', 'lei', 'ti', 'piace', 'e', 'vuoi', 'che', 'smetta', 'di', 'detestarti', 'devi', 'scusarti', 'avere', 'lo', 'stomaco', 'pieno', 'disturba', 'il', 'riposo', 'le', 'radici', 'delle', 'piante', 'sono', 'piuttosto', 'superficiali', 'perciò', 'quando', 'scavi', 'fallo', 'senza', 'disturbare', 'o', 'danneggiare', 'le', 'radici', 'scegli', 'un', 'fiore', 'in', 'armonia', 'con', 'la', 'donna', 'che', 'lo', 'indosserà', 'e', 'col', 'suo', 'abito', 'un', 'sari', 'è', 'un', 'abito', 'tradizionale', 'indossato', 'dalle', 'donne', 'indiane', 'il', 'migliore', 'fissaggio', 'prevede', 'che', 'i', 'supporti', 'siano', 'agganciati', 'ad', 'elementi', 'strutturali', 'puoi', 'usare', 'degli', 'elementi', 'fisici', 'come', 'le', 'costruzioni', 'per', 'bambini', 'per', 'analizzare', 'le', 'strutture', 'complicate', 'durante', 'la', 'festa', 'assicurati', 'di', 'parlare', 'con', 'tutti', 'la', 'torta', 'a', 'una', 'festa', 'di', 'compleanno', 'va', 'bene', 'ma', 'torte', 'e', 'gelati', 'tutti', 'i', 'giorni', 'no', 'la', 'pianta', 'continua', 'a', 'fiorire', 'dalla', 'primavera', 'per', 'tutta', 'l', 'estate', 'fino', 'a', 'inizio', 'autunno', 'una', 'persona', 'che', 'fiorisce', 'tardi', 'è', 'una', 'pensatrice', 'profonda', 'e', 'meno', 'frettolosa', 'rispetto', 'alla', 'massa', 'pensa', 'alla', 'gente', 'che', 'conosci', 'molto', 'bene', 'e', 'mettila', 'a', 'confronto', 'con', 'il', 'nuovo', 'arrivato', 'quando', 'eri', 'più', 'giovane', 'probabilmente', 'ti', 'piacevano', 'i', 'luoghi', 'chiassosi', 'e', 'pieni', 'di', 'gente', 'in', 'passato', 'solo', 'i', 'giovani', 'e', 'gli', 'studenti', 'cercavano', 'lavori', 'estivi', 'ma', 'la', 'situazione', 'ora', 'è', 'cambiata', 'quello', 'dei', 'romanzi', 'd', 'amore', 'per', 'giovani', 'è', 'un', 'mercato', 'in', 'espansione', 'devi', 'avere', 'le', 'idee', 'chiare', 'sulla', 'politica', 'quando', 'credi', 'di', 'avere', 'annotato', 'sufficienti', 'idee', 'leggile', 'due', 'volte', 'dovrebbe', 'essere', 'un', 'premio', 'che', 'incoraggia', 'le', 'persone', 'a', 'condividere', 'l', 'informazione', 'con', 'gli', 'amici', 'per', 'creare', 'un', 'ambiente', 'più', 'positivo', 'devi', 'incoraggiare', 'e', 'sostenere', 'le', 'persone', 'con', 'cui', 'lavori', 'se', 'hai', 'delle', 'prove', 'fisiche', 'non', 'danneggiarle', 'o', 'inquinarle', 'consegnale', 'al', 'tuo', 'avvocato', 'o', 'portale', 'in', 'tribunale', 'verso', 'la', 'fine', 'del', 'processo', 'di', 'distillazione', 'si', 'formano', 'elementi', 'chimici', 'di', 'scarto', 'che', 'non', 'devono', 'inquinare', 'la', 'vodka', 'ricorda', 'che', 'l', 'industria', 'cinematografica', 'investe', 'molto', 'impegno', 'per', 'rendere', 'i', 'suoi', 'film', 'credibili', 'se', 'la', 'tua', 'macchina', 'è', 'piccola', 'potresti', 'investire', 'in', 'barre', 'portapacchi', 'o', 'portapacchi', 'veri', 'e', 'propri', 'anche', 'la', 'lettera', 'di', 'presentazione', 'dovrebbe', 'essere', 'convertita', 'in', 'un', 'documento', 'di', 'solo', 'testo', 'una', 'lettera', 'di', 'intenti', 'viene', 'inviata', 'da', 'un', 'potenziale', 'acquirente', 'nelle', 'prime', 'fasi', 'della', 'trattativa', 'durante', 'l', 'inverno', 'ci', 'sono', 'meno', 'ore', 'di', 'luce', 'e', 'si', 'trascorre', 'più', 'tempo', 'al', 'chiuso', 'troppa', 'esposizione', 'alla', 'luce', 'del', 'sole', 'può', 'essere', 'dannosa', 'per', 'la', 'pelle', 'questa', 'pianta', 'ottiene', 'la', 'maggior', 'parte', 'delle', 'sue', 'sostanze', 'nutritive', 'mangiando', 'insetti', 'e', 'ragni', 'riduci', 'i', 'carboidrati', 'raffinati', 'e', 'mangia', 'più', 'proteine', 'magre', 'e', 'verdure', 'non', 'mettere', 'tuo', 'figlio', 'in', 'punizione', 'perché', 'si', 'masturba', 'organizza', 'un', 'programma', 'per', 'evitare', 'di', 'masturbarti', 'in', 'certi', 'momenti', 'della', 'giornata', 'lascia', 'che', 'tua', 'moglie', 'senta', 'quanto', 'la', 'ami', 'illuminandoti', 'quando', 'la', 'vedi', 'non', 'è', 'semplice', 'essere', 'una', 'buona', 'moglie', 'anche', 'se', 'hai', 'un', 'marito', 'praticamente', 'perfetto', 'comprendere', 'il', 'motivo', 'per', 'cui', 'la', 'gente', 'si', 'comporta', 'in', 'maniera', 'sgarbata', 'ti', 'permetterà', 'di', 'ampliare', 'la', 'prospettiva', 'sul', 'problema', 'quando', 'c', 'è', 'un', 'motivo', 'di', 'preoccupazione', 'l', 'ansia', 'è', 'una', 'risposta', 'a', 'uno', 'scenario', 'reale', 'o', 'immaginario', 'i', 'gattini', 'appena', 'nati', 'iniziano', 'a', 'nutrirsi', 'con', 'il', 'latte', 'materno', 'la', 'maschera', 'al', 'miele', 'ha', 'lo', 'scopo', 'di', 'nutrire', 'e', 'idratare', 'la', 'pelle', 'e', 'non', 'di', 'detergerla', 'ci', 'sono', 'pettegolezzi', 'innocui', 'e', 'altri', 'che', 'invece', 'possono', 'ferire', 'e', 'offendere', 'qualcuno', 'durante', 'le', 'discussioni', 'evita', 'di', 'offendere', 'il', 'partner', 'fissa', 'un', 'incontro', 'con', 'il', 'tuo', 'padre', 'spirituale', 'vai', 'a', 'fare', 'compere', 'da', 'sola', 'così', 'tuo', 'padre', 'e', 'tua', 'madre', 'non', 'sapranno', 'cosa', 'stai', 'acquistando', 'non', 'puoi', 'fare', 'due', 'bracciate', 'prendendo', 'il', 'respiro', 'solo', 'una', 'volta', 'pena', 'la', 'squalifica', 'tutti', 'cerchiamo', 'di', 'evitare', 'le', 'pene', 'd', 'amore', 'decidi', 'quante', 'persone', 'vuoi', 'che', 'facciano', 'parte', 'del', 'tuo', 'club', 'una', 'porzione', 'di', 'petto', 'di', 'tacchino', 'è', 'di', 'circa', '125', '250', 'g', 'a', 'persona', 'connetti', 'l', 'altro', 'capo', 'del', 'cavo', 'alla', 'porta', 'di', 'ingresso', 'del', 'preamplificatore', 'se', 'hai', 'problemi', 'di', 'connessione', 'con', 'qualche', 'programma', 'potresti', 'dover', 'aprire', 'manualmente', 'alcune', 'porte', 'le', 'aziende', 'piccole', 'offrono', 'più', 'opportunità', 'mentre', 'quelle', 'grandi', 'danno', 'più', 'prestigio', 'al', 'tuo', 'curriculum', 'per', 'un', 'leader', 'il', 'prestigio', 'o', 'il', 'benessere', 'sono', 'un', 'effetto', 'collaterale', 'piuttosto', 'che', 'una', 'motivazione', 'inizia', 'salutando', 'il', 'ragazzo', 'con', 'un', 'cenno', 'quando', 'lo', 'incontri', 'in', 'classe', 'sorridi', 'mentre', 'parli', 'o', 'mentre', 'vi', 'salutate', 'le', 'erbacce', 'possono', 'soffocare', 'i', 'fagiolini', 'impedendo', 'loro', 'di', 'emergere', 'in', 'superficie', 'sappi', 'soltanto', 'che', 'sta', 'cercando', 'di', 'aiutarti', 'pertanto', 'non', 'soffocare', 'le', 'tue', 'emozioni', 'in', 'questo', 'modo', 'non', 'dovrai', 'creare', 'spazio', 'sul', 'tuo', 'cellulare', 'per', 'il', 'file', 'di', 'aggiornamento', 'poni', 'sotto', 'gli', 'scaffali', 'una', 'scrivania', 'o', 'un', 'tavolino', 'da', 'toeletta', 'per', 'sfruttare', 'al', 'meglio', 'lo', 'spazio', 'verticale', 'mentre', 'alcuni', 'avvocati', 'rifiuteranno', 'l', 'offerta', 'quelli', 'con', 'spirito', 'imprenditoriale', 'saranno', 'deliziati', 'dall', 'idea', 'se', 'stai', 'cercando', 'di', 'contattare', 'lo', 'spirito', 'di', 'una', 'persona', 'defunta', 'hai', 'bisogno', 'di', 'usare', 'un', 'amuleto', 'per', 'attirarlo', 'accettare', 'di', 'avere', 'un', 'problema', 'è', 'il', 'primo', 'passo', 'sulla', 'strada', 'della', 'ripresa', 'percorri', 'strade', 'in', 'salita', 'con', 'la', 'bici', 'assicurati', 'che', 'la', 'testa', 'sia', 'sollevata', 'più', 'in', 'alto', 'rispetto', 'al', 'resto', 'del', 'corpo', 'tu', 'non', 'sei', 'i', 'pensieri', 'nella', 'tua', 'testa', 'le', 'migliori', 'sedie', 'da', 'ufficio', 'dovrebbero', 'offrire', 'un', 'supporto', 'lombare', 'recati', 'presso', 'l', 'ufficio', 'del', 'tribunale', 'distrettuale', 'e', 'consegna', 'i', 'documenti', 'al', 'cancelliere', 'non', 'sempre', 'l', 'uomo', 'della', 'strada', 'ha', 'accesso', 'a', 'tutte', 'le', 'informazioni', 'pertinenti', 'rafforza', 'la', 'stretta', 'afferrandogli', 'l', 'avambraccio', 'con', 'l', 'altra', 'mano', 'proprio', 'come', 'un', 'uomo', 'd', 'affari', 'hai', 'l', 'obbligo', 'di', 'dire', 'la', 'verità', 'e', 'di', 'essere', 'un', 'modello', 'di', 'comportamento', 'per', 'gli', 'altri', 'in', 'un', 'modo', 'o', 'nell', 'altro', 'la', 'verità', 'viene', 'sempre', 'a', 'galla', 'organizza', 'dei', 'viaggi', 'nel', 'fine', 'settimana', 'quando', 'entrambi', 'avete', 'del', 'tempo', 'libero', 'pesa', 'le', 'tue', 'valigie', 'prima', 'del', 'viaggio', 'per', 'evitare', 'costosi', 'supplementi', 'è', 'molto', 'importante', 'non', 'perdere', 'di', 'vista', 'la', 'propria', 'felicità', 'i', 'conigli', 'hanno', 'un', 'ottimo', 'udito', 'e', 'un', 'ottima', 'vista', 'e', 'possono', 'individuare', 'i', 'predatori', 'facilmente']\n"
     ]
    }
   ],
   "source": [
    "from nltk.tokenize import RegexpTokenizer\n",
    "tokenizer = RegexpTokenizer(r'\\w+')\n",
    "italianText = []\n",
    "for i in italian[\"TEXT\"]:\n",
    "    italianText += [j.lower() for j in tokenizer.tokenize(i)]\n",
    "print(italianText)"
   ]
  },
  {
   "cell_type": "markdown",
   "metadata": {},
   "source": [
    "-------"
   ]
  },
  {
   "cell_type": "markdown",
   "metadata": {},
   "source": [
    "Question 3: Output the number of words in each language (English and Italian) separately. (Use the list of words you obtained from Question 2)."
   ]
  },
  {
   "cell_type": "code",
   "execution_count": 224,
   "metadata": {
    "scrolled": true
   },
   "outputs": [
    {
     "name": "stdout",
     "output_type": "stream",
     "text": [
      "Length of english Text:  1314\n",
      "Length of italian Text:  1306\n"
     ]
    }
   ],
   "source": [
    "print('Length of english Text: ', len(englishText))\n",
    "print('Length of italian Text: ', len(italianText))"
   ]
  },
  {
   "cell_type": "markdown",
   "metadata": {},
   "source": [
    "-----------"
   ]
  },
  {
   "cell_type": "markdown",
   "metadata": {},
   "source": [
    "Question 4: Output the number of UNIQUE words in each language (English and Italian) separately."
   ]
  },
  {
   "cell_type": "markdown",
   "metadata": {},
   "source": [
    "Number of UNIQUE words in English Language"
   ]
  },
  {
   "cell_type": "code",
   "execution_count": 225,
   "metadata": {},
   "outputs": [
    {
     "name": "stdout",
     "output_type": "stream",
     "text": [
      "Number of unique english words:  641\n"
     ]
    }
   ],
   "source": [
    "from collections import Counter\n",
    "mainEnglishList = Counter(englishText).most_common()\n",
    "uniqueEnglishWords = Counter(englishText)\n",
    "print(\"Number of unique english words: \", len(uniqueEnglishWords))\n",
    "uniqueEnglishWords = uniqueEnglishWords.most_common(25)"
   ]
  },
  {
   "cell_type": "markdown",
   "metadata": {},
   "source": [
    "Number of UNIQUE words in Italian Language"
   ]
  },
  {
   "cell_type": "code",
   "execution_count": 226,
   "metadata": {},
   "outputs": [
    {
     "name": "stdout",
     "output_type": "stream",
     "text": [
      "Number of unique italian words:  711\n"
     ]
    }
   ],
   "source": [
    "from collections import Counter\n",
    "# len(Counter(englishText))\n",
    "mainItalianList = Counter(italianText).most_common()\n",
    "uniqueItalianWords = Counter(italianText)\n",
    "print(\"Number of unique italian words: \", len(uniqueItalianWords))\n",
    "uniqueItalianWords = uniqueItalianWords.most_common(25)"
   ]
  },
  {
   "cell_type": "markdown",
   "metadata": {},
   "source": [
    "-------------"
   ]
  },
  {
   "cell_type": "markdown",
   "metadata": {},
   "source": [
    "Question 5: For the most frequent 25 words and for the most frequent 25 additional words that start with the letter m (a total of 50 words), print the word, the number of times it occurs, its rank in the overall list of words, the probability of occurrence, and the product of the rank and the probability.  There should be two list outputs -- one for English and one for Italian."
   ]
  },
  {
   "cell_type": "markdown",
   "metadata": {},
   "source": [
    "Most Frequent 25 words and for the most frequent 25 additional words that start with the letter m for English language"
   ]
  },
  {
   "cell_type": "code",
   "execution_count": 227,
   "metadata": {
    "scrolled": false
   },
   "outputs": [
    {
     "name": "stdout",
     "output_type": "stream",
     "text": [
      "[{'word': 'the', 'occurance': 63, 'rank': 1, 'probability': 0.04794520547945205, 'rank * probability': 0.04794520547945205}, {'word': 'you', 'occurance': 45, 'rank': 2, 'probability': 0.03424657534246575, 'rank * probability': 0.0684931506849315}, {'word': 'a', 'occurance': 39, 'rank': 3, 'probability': 0.02968036529680365, 'rank * probability': 0.08904109589041095}, {'word': 'to', 'occurance': 36, 'rank': 4, 'probability': 0.0273972602739726, 'rank * probability': 0.1095890410958904}, {'word': 'your', 'occurance': 35, 'rank': 5, 'probability': 0.02663622526636225, 'rank * probability': 0.13318112633181126}, {'word': 'and', 'occurance': 33, 'rank': 6, 'probability': 0.02511415525114155, 'rank * probability': 0.1506849315068493}, {'word': 'of', 'occurance': 29, 'rank': 7, 'probability': 0.02207001522070015, 'rank * probability': 0.15449010654490106}, {'word': 'in', 'occurance': 20, 'rank': 8, 'probability': 0.015220700152207, 'rank * probability': 0.121765601217656}, {'word': 'or', 'occurance': 19, 'rank': 9, 'probability': 0.01445966514459665, 'rank * probability': 0.13013698630136986}, {'word': 'can', 'occurance': 14, 'rank': 10, 'probability': 0.0106544901065449, 'rank * probability': 0.106544901065449}, {'word': 'for', 'occurance': 13, 'rank': 11, 'probability': 0.00989345509893455, 'rank * probability': 0.10882800608828005}, {'word': 'are', 'occurance': 13, 'rank': 12, 'probability': 0.00989345509893455, 'rank * probability': 0.1187214611872146}, {'word': 'if', 'occurance': 12, 'rank': 13, 'probability': 0.0091324200913242, 'rank * probability': 0.1187214611872146}, {'word': 'is', 'occurance': 11, 'rank': 14, 'probability': 0.00837138508371385, 'rank * probability': 0.1171993911719939}, {'word': 'with', 'occurance': 10, 'rank': 15, 'probability': 0.0076103500761035, 'rank * probability': 0.1141552511415525}, {'word': 'that', 'occurance': 9, 'rank': 16, 'probability': 0.00684931506849315, 'rank * probability': 0.1095890410958904}, {'word': 'will', 'occurance': 9, 'rank': 17, 'probability': 0.00684931506849315, 'rank * probability': 0.11643835616438356}, {'word': 'when', 'occurance': 8, 'rank': 18, 'probability': 0.0060882800608828, 'rank * probability': 0.1095890410958904}, {'word': 'on', 'occurance': 8, 'rank': 19, 'probability': 0.0060882800608828, 'rank * probability': 0.1156773211567732}, {'word': 'have', 'occurance': 7, 'rank': 20, 'probability': 0.00532724505327245, 'rank * probability': 0.106544901065449}, {'word': 'any', 'occurance': 7, 'rank': 21, 'probability': 0.00532724505327245, 'rank * probability': 0.11187214611872145}, {'word': 'as', 'occurance': 7, 'rank': 22, 'probability': 0.00532724505327245, 'rank * probability': 0.1171993911719939}, {'word': 'be', 'occurance': 7, 'rank': 23, 'probability': 0.00532724505327245, 'rank * probability': 0.12252663622526636}, {'word': 's', 'occurance': 7, 'rank': 24, 'probability': 0.00532724505327245, 'rank * probability': 0.1278538812785388}, {'word': 'help', 'occurance': 6, 'rank': 25, 'probability': 0.0045662100456621, 'rank * probability': 0.1141552511415525}, {'word': 'more', 'occurance': 6, 'rank': 26, 'probability': 0.0045662100456621, 'rank * probability': 0.1187214611872146}, {'word': 'many', 'occurance': 3, 'rank': 62, 'probability': 0.00228310502283105, 'rank * probability': 0.06164383561643835}, {'word': 'much', 'occurance': 3, 'rank': 75, 'probability': 0.00228310502283105, 'rank * probability': 0.0639269406392694}, {'word': 'most', 'occurance': 2, 'rank': 89, 'probability': 0.0015220700152207, 'rank * probability': 0.0441400304414003}, {'word': 'making', 'occurance': 2, 'rank': 93, 'probability': 0.0015220700152207, 'rank * probability': 0.045662100456621}, {'word': 'make', 'occurance': 2, 'rank': 108, 'probability': 0.0015220700152207, 'rank * probability': 0.0471841704718417}, {'word': 'minutes', 'occurance': 2, 'rank': 116, 'probability': 0.0015220700152207, 'rank * probability': 0.0487062404870624}, {'word': 'manner', 'occurance': 2, 'rank': 153, 'probability': 0.0015220700152207, 'rank * probability': 0.0502283105022831}, {'word': 'movie', 'occurance': 2, 'rank': 155, 'probability': 0.0015220700152207, 'rank * probability': 0.0517503805175038}, {'word': 'milestones', 'occurance': 1, 'rank': 171, 'probability': 0.00076103500761035, 'rank * probability': 0.02663622526636225}, {'word': 'motion', 'occurance': 1, 'rank': 185, 'probability': 0.00076103500761035, 'rank * probability': 0.0273972602739726}, {'word': 'mystery', 'occurance': 1, 'rank': 197, 'probability': 0.00076103500761035, 'rank * probability': 0.02815829528158295}, {'word': 'mile', 'occurance': 1, 'rank': 205, 'probability': 0.00076103500761035, 'rank * probability': 0.0289193302891933}, {'word': 'meditation', 'occurance': 1, 'rank': 223, 'probability': 0.00076103500761035, 'rank * probability': 0.02968036529680365}, {'word': 'mind', 'occurance': 1, 'rank': 224, 'probability': 0.00076103500761035, 'rank * probability': 0.030441400304414}, {'word': 'monthly', 'occurance': 1, 'rank': 247, 'probability': 0.00076103500761035, 'rank * probability': 0.03120243531202435}, {'word': 'mushy', 'occurance': 1, 'rank': 267, 'probability': 0.00076103500761035, 'rank * probability': 0.0319634703196347}, {'word': 'medical', 'occurance': 1, 'rank': 278, 'probability': 0.00076103500761035, 'rank * probability': 0.03272450532724505}, {'word': 'meals', 'occurance': 1, 'rank': 348, 'probability': 0.00076103500761035, 'rank * probability': 0.0334855403348554}, {'word': 'matching', 'occurance': 1, 'rank': 355, 'probability': 0.00076103500761035, 'rank * probability': 0.03424657534246575}, {'word': 'machine', 'occurance': 1, 'rank': 362, 'probability': 0.00076103500761035, 'rank * probability': 0.0350076103500761}, {'word': 'messages', 'occurance': 1, 'rank': 378, 'probability': 0.00076103500761035, 'rank * probability': 0.03576864535768645}, {'word': 'mouse', 'occurance': 1, 'rank': 392, 'probability': 0.00076103500761035, 'rank * probability': 0.0365296803652968}, {'word': 'minute', 'occurance': 1, 'rank': 398, 'probability': 0.00076103500761035, 'rank * probability': 0.03729071537290715}, {'word': 'mission', 'occurance': 1, 'rank': 430, 'probability': 0.00076103500761035, 'rank * probability': 0.0380517503805175}]\n"
     ]
    }
   ],
   "source": [
    "mFrequentEnglishWords = []\n",
    "for i in englishText:\n",
    "    if i[0] == 'm':\n",
    "        mFrequentEnglishWords.append(i)\n",
    "mFrequentEnglishWords = Counter(mFrequentEnglishWords).most_common(25)\n",
    "frequentEnglishWords = uniqueEnglishWords + mFrequentEnglishWords\n",
    "englishDict = []\n",
    "for i,item in enumerate(frequentEnglishWords,start=1):\n",
    "    temp = {}\n",
    "    temp[\"word\"] = item[0]\n",
    "    temp[\"occurance\"] = item[1]\n",
    "    temp[\"rank\"] = [x[0] for x in mainEnglishList].index(item[0]) + 1\n",
    "    temp[\"probability\"] = item[1]/len(englishText)\n",
    "    temp[\"rank * probability\"] = i * (item[1]/len(englishText))\n",
    "    englishDict.append(temp)\n",
    "print(englishDict)"
   ]
  },
  {
   "cell_type": "markdown",
   "metadata": {},
   "source": [
    "Most Frequent 25 words and for the most frequent 25 additional words that start with the letter m for Italian language"
   ]
  },
  {
   "cell_type": "code",
   "execution_count": 228,
   "metadata": {},
   "outputs": [
    {
     "name": "stdout",
     "output_type": "stream",
     "text": [
      "[{'word': 'di', 'occurance': 51, 'rank': 1, 'probability': 0.03905053598774885, 'rank * probability': 0.03905053598774885}, {'word': 'e', 'occurance': 33, 'rank': 2, 'probability': 0.02526799387442573, 'rank * probability': 0.05053598774885146}, {'word': 'la', 'occurance': 31, 'rank': 3, 'probability': 0.023736600306278714, 'rank * probability': 0.07120980091883614}, {'word': 'un', 'occurance': 28, 'rank': 4, 'probability': 0.021439509954058193, 'rank * probability': 0.08575803981623277}, {'word': 'in', 'occurance': 21, 'rank': 5, 'probability': 0.016079632465543645, 'rank * probability': 0.08039816232771822}, {'word': 'il', 'occurance': 21, 'rank': 6, 'probability': 0.016079632465543645, 'rank * probability': 0.09647779479326188}, {'word': 'per', 'occurance': 19, 'rank': 7, 'probability': 0.01454823889739663, 'rank * probability': 0.10183767228177641}, {'word': 'che', 'occurance': 18, 'rank': 8, 'probability': 0.013782542113323124, 'rank * probability': 0.11026033690658499}, {'word': 'i', 'occurance': 17, 'rank': 9, 'probability': 0.013016845329249618, 'rank * probability': 0.11715160796324656}, {'word': 'è', 'occurance': 17, 'rank': 10, 'probability': 0.013016845329249618, 'rank * probability': 0.13016845329249618}, {'word': 'a', 'occurance': 17, 'rank': 11, 'probability': 0.013016845329249618, 'rank * probability': 0.1431852986217458}, {'word': 'una', 'occurance': 16, 'rank': 12, 'probability': 0.01225114854517611, 'rank * probability': 0.14701378254211334}, {'word': 'non', 'occurance': 15, 'rank': 13, 'probability': 0.011485451761102604, 'rank * probability': 0.14931087289433384}, {'word': 'le', 'occurance': 15, 'rank': 14, 'probability': 0.011485451761102604, 'rank * probability': 0.16079632465543645}, {'word': 'con', 'occurance': 13, 'rank': 15, 'probability': 0.009954058192955589, 'rank * probability': 0.14931087289433384}, {'word': 'del', 'occurance': 12, 'rank': 16, 'probability': 0.009188361408882083, 'rank * probability': 0.14701378254211334}, {'word': 'l', 'occurance': 12, 'rank': 17, 'probability': 0.009188361408882083, 'rank * probability': 0.1562021439509954}, {'word': 'o', 'occurance': 11, 'rank': 18, 'probability': 0.008422664624808576, 'rank * probability': 0.15160796324655437}, {'word': 'più', 'occurance': 10, 'rank': 19, 'probability': 0.007656967840735069, 'rank * probability': 0.14548238897396631}, {'word': 'della', 'occurance': 9, 'rank': 20, 'probability': 0.006891271056661562, 'rank * probability': 0.13782542113323124}, {'word': 'tuo', 'occurance': 8, 'rank': 21, 'probability': 0.006125574272588055, 'rank * probability': 0.12863705972434916}, {'word': 'al', 'occurance': 8, 'rank': 22, 'probability': 0.006125574272588055, 'rank * probability': 0.13476263399693722}, {'word': 'quando', 'occurance': 8, 'rank': 23, 'probability': 0.006125574272588055, 'rank * probability': 0.14088820826952528}, {'word': 'delle', 'occurance': 7, 'rank': 24, 'probability': 0.005359877488514548, 'rank * probability': 0.12863705972434916}, {'word': 'lo', 'occurance': 7, 'rank': 25, 'probability': 0.005359877488514548, 'rank * probability': 0.1339969372128637}, {'word': 'mentre', 'occurance': 4, 'rank': 43, 'probability': 0.0030627871362940277, 'rank * probability': 0.07963246554364473}, {'word': 'ma', 'occurance': 3, 'rank': 44, 'probability': 0.002297090352220521, 'rank * probability': 0.06202143950995406}, {'word': 'modo', 'occurance': 3, 'rank': 50, 'probability': 0.002297090352220521, 'rank * probability': 0.06431852986217458}, {'word': 'molto', 'occurance': 3, 'rank': 61, 'probability': 0.002297090352220521, 'rank * probability': 0.0666156202143951}, {'word': 'meglio', 'occurance': 2, 'rank': 79, 'probability': 0.0015313935681470138, 'rank * probability': 0.045941807044410414}, {'word': 'maggior', 'occurance': 2, 'rank': 83, 'probability': 0.0015313935681470138, 'rank * probability': 0.04747320061255743}, {'word': 'meno', 'occurance': 2, 'rank': 105, 'probability': 0.0015313935681470138, 'rank * probability': 0.04900459418070444}, {'word': 'moglie', 'occurance': 2, 'rank': 124, 'probability': 0.0015313935681470138, 'rank * probability': 0.05053598774885146}, {'word': 'motivo', 'occurance': 2, 'rank': 125, 'probability': 0.0015313935681470138, 'rank * probability': 0.05206738131699847}, {'word': 'mente', 'occurance': 1, 'rank': 157, 'probability': 0.0007656967840735069, 'rank * probability': 0.026799387442572743}, {'word': 'motociclette', 'occurance': 1, 'rank': 209, 'probability': 0.0007656967840735069, 'rank * probability': 0.02756508422664625}, {'word': 'mare', 'occurance': 1, 'rank': 221, 'probability': 0.0007656967840735069, 'rank * probability': 0.028330781010719758}, {'word': 'microscopio', 'occurance': 1, 'rank': 239, 'probability': 0.0007656967840735069, 'rank * probability': 0.02909647779479326}, {'word': 'molti', 'occurance': 1, 'rank': 255, 'probability': 0.0007656967840735069, 'rank * probability': 0.02986217457886677}, {'word': 'merito', 'occurance': 1, 'rank': 273, 'probability': 0.0007656967840735069, 'rank * probability': 0.030627871362940276}, {'word': 'massaggi', 'occurance': 1, 'rank': 274, 'probability': 0.0007656967840735069, 'rank * probability': 0.03139356814701379}, {'word': 'minuti', 'occurance': 1, 'rank': 276, 'probability': 0.0007656967840735069, 'rank * probability': 0.03215926493108729}, {'word': 'muscoli', 'occurance': 1, 'rank': 280, 'probability': 0.0007656967840735069, 'rank * probability': 0.032924961715160794}, {'word': 'miglioriamo', 'occurance': 1, 'rank': 301, 'probability': 0.0007656967840735069, 'rank * probability': 0.033690658499234305}, {'word': 'meeting', 'occurance': 1, 'rank': 321, 'probability': 0.0007656967840735069, 'rank * probability': 0.03445635528330781}, {'word': 'migliore', 'occurance': 1, 'rank': 353, 'probability': 0.0007656967840735069, 'rank * probability': 0.03522205206738132}, {'word': 'massa', 'occurance': 1, 'rank': 387, 'probability': 0.0007656967840735069, 'rank * probability': 0.03598774885145482}, {'word': 'mettila', 'occurance': 1, 'rank': 389, 'probability': 0.0007656967840735069, 'rank * probability': 0.036753445635528334}, {'word': 'mercato', 'occurance': 1, 'rank': 407, 'probability': 0.0007656967840735069, 'rank * probability': 0.03751914241960184}, {'word': 'macchina', 'occurance': 1, 'rank': 449, 'probability': 0.0007656967840735069, 'rank * probability': 0.03828483920367535}]\n"
     ]
    }
   ],
   "source": [
    "mFrequentItalianWords = []\n",
    "for i in italianText:\n",
    "    if i[0] == 'm':\n",
    "        mFrequentItalianWords.append(i)\n",
    "mFrequentItalianWords = Counter(mFrequentItalianWords).most_common(25)\n",
    "frequentItalianWords = uniqueItalianWords + mFrequentItalianWords\n",
    "italianDict = []\n",
    "for i,item in enumerate(frequentItalianWords,start=1):\n",
    "    temp = {}\n",
    "    temp[\"word\"] = item[0]\n",
    "    temp[\"occurance\"] = item[1]\n",
    "    temp[\"rank\"] = [x[0] for x in mainItalianList].index(item[0]) + 1\n",
    "    temp[\"probability\"] = item[1]/len(italianText)\n",
    "    temp[\"rank * probability\"] = i * (item[1]/len(italianText))\n",
    "    italianDict.append(temp)\n",
    "print(italianDict)"
   ]
  },
  {
   "cell_type": "markdown",
   "metadata": {},
   "source": [
    "-------------------------"
   ]
  },
  {
   "cell_type": "markdown",
   "metadata": {},
   "source": [
    "Question 6: Discuss whether the text satisfies Zipf’s law or not. Why do you think that is the case? Please provide an *original* answer with least 100 words. Type the answer directly in the Python notebook as a Text block. (Hint: A good strategy would be to use specific words from the output of Question 5 as examples to make your point.)"
   ]
  },
  {
   "cell_type": "markdown",
   "metadata": {},
   "source": [
    "The text extracted from the data frame does satisfy Zipf's law.\n",
    "According to Zipf's Law, the frequency of any word is inversely proportional to it's rank in the frequency table.\n",
    "Let us consider few words \"The\", \"Mentre\" and \"Mission\".\n",
    "\"The\" word has occurred for the highest number of times(51) in the data frame, thus resulting in the highest rank.\n",
    "\"Mentre\" word has occurred for 4 number of times, which sorts itself in the table and gets an average rank.\n",
    "Whereas while considering another word \"Mission\" it has appeared for the least number of times(1) thus resulting in the highest rank.\n",
    "Based on the above three senarios, we can conclude that the text satisfies Zipf's law. "
   ]
  },
  {
   "cell_type": "markdown",
   "metadata": {},
   "source": [
    "-----------------"
   ]
  },
  {
   "cell_type": "markdown",
   "metadata": {},
   "source": [
    "Question 7: Plot (a) frequency vs. rank and (b) log frequency vs. log rank in order to \"visualize\" Zipf's Law for each corpus (English and Italian). Note: This will be four plots total."
   ]
  },
  {
   "cell_type": "markdown",
   "metadata": {},
   "source": [
    "Frequency vs Rank plot for English Language"
   ]
  },
  {
   "cell_type": "code",
   "execution_count": 238,
   "metadata": {},
   "outputs": [
    {
     "data": {
      "image/png": "[encoded data removed]",
      "text/plain": [
       "<Figure size 432x288 with 1 Axes>"
      ]
     },
     "metadata": {
      "needs_background": "light"
     },
     "output_type": "display_data"
    }
   ],
   "source": [
    "import matplotlib.pyplot as plt\n",
    "occurances = [ tuple[\"occurance\"] for tuple in englishDict ]\n",
    "rank = [ tuple[\"rank\"] for tuple in englishDict ]\n",
    "plt.plot(rank, occurances)\n",
    "plt.xlabel(\"Rank\")\n",
    "plt.ylabel(\"Frequency\")\n",
    "plt.title(\"Frequency vs Rank for English Language\")\n",
    "plt.show()"
   ]
  },
  {
   "cell_type": "markdown",
   "metadata": {},
   "source": [
    "Log Frequency vs Log Rank plot for English Language"
   ]
  },
  {
   "cell_type": "code",
   "execution_count": 236,
   "metadata": {},
   "outputs": [
    {
     "data": {
      "image/png": "[encoded data removed]",
      "text/plain": [
       "<Figure size 432x288 with 1 Axes>"
      ]
     },
     "metadata": {
      "needs_background": "light"
     },
     "output_type": "display_data"
    }
   ],
   "source": [
    "import matplotlib.pyplot as plt\n",
    "occurances = [ tuple[\"occurance\"] for tuple in englishDict ]\n",
    "rank = [ tuple[\"rank\"] for tuple in englishDict ]\n",
    "plt.loglog(rank, occurances)\n",
    "plt.xlabel(\"Log Rank\")\n",
    "plt.ylabel(\"Log Frequency\")\n",
    "plt.title(\"Log Frequency vs Log Rank for English Language\")\n",
    "plt.show()"
   ]
  },
  {
   "cell_type": "markdown",
   "metadata": {},
   "source": [
    "Frequency vs Rank plot for Italian Language"
   ]
  },
  {
   "cell_type": "code",
   "execution_count": 239,
   "metadata": {},
   "outputs": [
    {
     "data": {
      "image/png": "[encoded data removed]",
      "text/plain": [
       "<Figure size 432x288 with 1 Axes>"
      ]
     },
     "metadata": {
      "needs_background": "light"
     },
     "output_type": "display_data"
    }
   ],
   "source": [
    "import matplotlib.pyplot as plt\n",
    "occurances = [ tuple[\"occurance\"] for tuple in italianDict ]\n",
    "rank = [ tuple[\"rank\"] for tuple in italianDict ]\n",
    "plt.plot(rank, occurances)\n",
    "plt.xlabel(\"Rank\")\n",
    "plt.ylabel(\"Frequency\")\n",
    "plt.title(\"Frequency vs Rank for Italian Language\")\n",
    "plt.show()"
   ]
  },
  {
   "cell_type": "markdown",
   "metadata": {},
   "source": [
    "Log Frequency vs Log Rank plot for Italian Language"
   ]
  },
  {
   "cell_type": "code",
   "execution_count": 240,
   "metadata": {},
   "outputs": [
    {
     "data": {
      "image/png": "[encoded data removed]",
      "text/plain": [
       "<Figure size 432x288 with 1 Axes>"
      ]
     },
     "metadata": {
      "needs_background": "light"
     },
     "output_type": "display_data"
    }
   ],
   "source": [
    "import matplotlib.pyplot as plt\n",
    "occurances = [ tuple[\"occurance\"] for tuple in italianDict ]\n",
    "rank = [ tuple[\"rank\"] for tuple in italianDict ]\n",
    "plt.loglog(rank, occurances)\n",
    "plt.xlabel(\"Log Rank\")\n",
    "plt.ylabel(\"Log Frequency\")\n",
    "plt.title(\"Log Frequency vs Log Rank for Italian Language\")\n",
    "plt.show()"
   ]
  }
 ],
 "metadata": {
  "kernelspec": {
   "display_name": "Python 3",
   "language": "python",
   "name": "python3"
  },
  "language_info": {
   "codemirror_mode": {
    "name": "ipython",
    "version": 3
   },
   "file_extension": ".py",
   "mimetype": "text/x-python",
   "name": "python",
   "nbconvert_exporter": "python",
   "pygments_lexer": "ipython3",
   "version": "3.7.6"
  }
 },
 "nbformat": 4,
 "nbformat_minor": 4
}
